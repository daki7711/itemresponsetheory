{
 "cells": [
  {
   "cell_type": "code",
   "execution_count": 1,
   "metadata": {},
   "outputs": [
    {
     "name": "stdout",
     "output_type": "stream",
     "text": [
      "(5, 1) (1, 5) (5, 5)\n",
      "[[0 0 1 0 0]\n",
      " [0 0 0 0 0]\n",
      " [1 0 1 0 0]\n",
      " [1 1 0 1 0]\n",
      " [1 1 0 1 1]]\n"
     ]
    }
   ],
   "source": [
    "import numpy as np\n",
    "\n",
    "n_s = 30 # number of students\n",
    "n_i = 20 # number of items\n",
    "\n",
    "# pick a random ability for each student from an N(0,1) distribution\n",
    "\n",
    "abilities = np.random.randn(n_s,1)\n",
    "\n",
    "# pick a random difficulty for each item from an N(0,1) distribution\n",
    "\n",
    "difficulties = np.random.randn(1,n_i)\n",
    "\n",
    "# the IRT model says that P(correct[s,i]) = logistic(ability[s] -difficulty[i])\n",
    "\n",
    "def logistic(a):\n",
    "    return 1./(1+np.exp(-a))\n",
    "prob_correct = logistic(abilities - difficulties) \n",
    "\n",
    "print (abilities.shape, difficulties.shape, prob_correct.shape)\n",
    "\n",
    "# flip a coin to pick 'correct' or 'incorrect' for each student based on the\n",
    "# probability of a correct response\n",
    "\n",
    "student_responses = np.random.binomial(1,prob_correct)\n",
    "print (student_responses)\n",
    "\n"
   ]
  },
  {
   "cell_type": "code",
   "execution_count": 2,
   "metadata": {},
   "outputs": [
    {
     "name": "stdout",
     "output_type": "stream",
     "text": [
      "[[0 0 1 1 0]\n",
      " [0 0 1 0 0]\n",
      " [0 0 0 1 0]\n",
      " [1 1 0 1 1]\n",
      " [0 1 1 0 1]]\n"
     ]
    }
   ],
   "source": [
    "import irt\n",
    "\n",
    "# This is the part where the student ability and the item difficulty is being trained\n",
    "# This estimation uses the four paremeter model\n",
    "thetas, abcds = irt.estimate_thetas(student_responses)\n",
    "\n",
    "# This is where we restore the responses with the obtained parameters\n",
    "prob_correct = irt.four_parameter_model(abcds[:,0], abcds[:,1], abcds[:,2], abcds[:,3], thetas)\n",
    "\n",
    "prediction = np.random.binomial(1,prob_correct)\n",
    "\n",
    "print(prediction)"
   ]
  },
  {
   "cell_type": "code",
   "execution_count": 3,
   "metadata": {},
   "outputs": [
    {
     "name": "stdout",
     "output_type": "stream",
     "text": [
      "The accuracy for the synthesis data is : 0.64\n"
     ]
    }
   ],
   "source": [
    "# This is where we test the restored responses again\n",
    "total_number_of_responses = n_s * n_i\n",
    "correct = 0\n",
    "for s in range(n_s):\n",
    "    for i in range(n_i):\n",
    "        if student_responses[s][i] == prediction[s][i]:\n",
    "            correct += 1\n",
    "print(\"The accuracy for the synthesis data is :\", correct/total_number_of_responses)"
   ]
  },
  {
   "cell_type": "markdown",
   "metadata": {},
   "source": [
    "## Spearman correlation of the parameters"
   ]
  },
  {
   "cell_type": "code",
   "execution_count": 4,
   "metadata": {},
   "outputs": [
    {
     "name": "stdout",
     "output_type": "stream",
     "text": [
      "The spearman correlation of the true abilities and the model estimation\n",
      "\n",
      "The correlation is :  1.0  The p_value is :  0.0\n",
      "\n",
      "The spearman correlation of the true item difficulty and the model estimation\n",
      "\n",
      "The correlation is :  0.1  The p_value is :  0.87\n"
     ]
    }
   ],
   "source": [
    "from scipy.stats import spearmanr\n",
    "\n",
    "print(\"The spearman correlation of the true abilities and the model estimation\\n\")\n",
    "\n",
    "correlation, p_value = spearmanr(abilities,thetas)\n",
    "print(\"The correlation is : \", round(correlation,2),\" The p_value is : \", round(p_value,2))\n",
    "print()\n",
    "print(\"The spearman correlation of the true item difficulty and the model estimation\\n\")\n",
    "\n",
    "correlation, p_value = spearmanr(difficulties.flatten(),-abcds[:,1])\n",
    "print(\"The correlation is : \", round(correlation,2),\" The p_value is : \", round(p_value,2))"
   ]
  },
  {
   "cell_type": "markdown",
   "metadata": {},
   "source": [
    "## Pearson correlation of the parameters"
   ]
  },
  {
   "cell_type": "code",
   "execution_count": 5,
   "metadata": {},
   "outputs": [
    {
     "name": "stdout",
     "output_type": "stream",
     "text": [
      "The pearson correlation of the true abilities and the model esitmation\n",
      "\n",
      "The correlation is :  0.83  The p_value is :  0.08\n",
      "\n",
      "The spearman correlation of the true item difficulty and the model estimation\n",
      "\n",
      "The correlation is :  0.32  The p_value is :  0.6\n"
     ]
    }
   ],
   "source": [
    "from scipy.stats import pearsonr\n",
    "\n",
    "print(\"The pearson correlation of the true abilities and the model esitmation\\n\")\n",
    "\n",
    "pearsonr(abilities.flatten(), thetas.flatten())\n",
    "\n",
    "correlation, p_value = pearsonr(abilities.flatten(), thetas.flatten())\n",
    "print(\"The correlation is : \", round(correlation,2),\" The p_value is : \", round(p_value,2))\n",
    "print()\n",
    "print(\"The spearman correlation of the true item difficulty and the model estimation\\n\")\n",
    "\n",
    "correlation, p_value = pearsonr(difficulties.flatten(),-abcds[:,1])\n",
    "print(\"The correlation is : \", round(correlation,2),\" The p_value is : \", round(p_value,2))"
   ]
  },
  {
   "cell_type": "markdown",
   "metadata": {},
   "source": [
    "## Visualize"
   ]
  },
  {
   "cell_type": "code",
   "execution_count": 6,
   "metadata": {},
   "outputs": [
    {
     "data": {
      "image/png": "[encoded data removed]",
      "text/plain": [
       "<Figure size 432x288 with 1 Axes>"
      ]
     },
     "metadata": {
      "needs_background": "light"
     },
     "output_type": "display_data"
    }
   ],
   "source": [
    "import matplotlib.pyplot as plt\n",
    "plt.title('The Ability plot')\n",
    "plt.xlabel('Model Estimation of the abilities')\n",
    "plt.ylabel('True ability values')\n",
    "plt.plot(thetas.flatten(), abilities.flatten(),'ro')\n",
    "plt.savefig('The Ability Recovery with 100 students.png')"
   ]
  },
  {
   "cell_type": "code",
   "execution_count": 7,
   "metadata": {},
   "outputs": [
    {
     "data": {
      "image/png": "[encoded data removed]",
      "text/plain": [
       "<Figure size 432x288 with 1 Axes>"
      ]
     },
     "metadata": {
      "needs_background": "light"
     },
     "output_type": "display_data"
    }
   ],
   "source": [
    "plt.title('The Item Difficulty plot')\n",
    "plt.xlabel('Model Estimation of Item difficulty')\n",
    "plt.ylabel('True Item difficulty values')\n",
    "plt.plot(difficulties.flatten(),-abcds[:,1], 'go')\n",
    "plt.savefig('the_accuracy_plot.png')\n",
    "plt.savefig('The Item Difficutly Recovery with 100 items.png')"
   ]
  },
  {
   "cell_type": "code",
   "execution_count": null,
   "metadata": {},
   "outputs": [],
   "source": []
  }
 ],
 "metadata": {
  "kernelspec": {
   "display_name": "Python [conda env:root] *",
   "language": "python",
   "name": "conda-root-py"
  },
  "language_info": {
   "codemirror_mode": {
    "name": "ipython",
    "version": 3
   },
   "file_extension": ".py",
   "mimetype": "text/x-python",
   "name": "python",
   "nbconvert_exporter": "python",
   "pygments_lexer": "ipython3",
   "version": "3.7.6"
  }
 },
 "nbformat": 4,
 "nbformat_minor": 4
}
