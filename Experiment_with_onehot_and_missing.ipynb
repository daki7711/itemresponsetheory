{
 "cells": [
  {
   "cell_type": "code",
   "execution_count": 1,
   "metadata": {},
   "outputs": [
    {
     "data": {
      "text/plain": [
       "'\\n/***************************************************************************************\\n*    Title: Item Response Theory in Python\\n*    Author: unknown\\n*    Date: Mar 14, 2019\\n*    Code version: irt 0.0.2\\n*    Availability: https://pypi.org/project/irt/\\n*\\n***************************************************************************************/\\n'"
      ]
     },
     "execution_count": 1,
     "metadata": {},
     "output_type": "execute_result"
    }
   ],
   "source": [
    "'''\n",
    "/***************************************************************************************\n",
    "*    Title: Item Response Theory in Python\n",
    "*    Author: unknown\n",
    "*    Date: Mar 14, 2019\n",
    "*    Code version: irt 0.0.2\n",
    "*    Availability: https://pypi.org/project/irt/\n",
    "*\n",
    "***************************************************************************************/\n",
    "'''"
   ]
  },
  {
   "cell_type": "code",
   "execution_count": 2,
   "metadata": {},
   "outputs": [],
   "source": [
    "from builtins import range\n",
    "from numpy import (abs, array, concatenate, copy, exp, inf, log, log1p, max,\n",
    "                   newaxis, sort, sum)\n",
    "from scipy.optimize import minimize\n",
    "from scipy.stats import dirichlet, lognorm, norm\n",
    "from scipy.special import expit\n",
    "import numpy as np\n",
    "from scipy.stats import spearmanr\n",
    "from scipy.stats import pearsonr\n",
    "import matplotlib.pyplot as plt"
   ]
  },
  {
   "cell_type": "code",
   "execution_count": 3,
   "metadata": {},
   "outputs": [],
   "source": [
    "# Scale parameters for the a-priory distribution of parameters -\n",
    "# The standard deviation of theta (student ability)\n",
    "THETA_SCALE = 1.\n",
    "# The standard deviation of beta (item difficulty)\n",
    "BETA_SCALE = 1."
   ]
  },
  {
   "cell_type": "code",
   "execution_count": 4,
   "metadata": {},
   "outputs": [],
   "source": [
    "# Parameters are initialized as the avg. of a large number of parameters\n",
    "# which are randomly generated, how large should this number be?\n",
    "INITIAL_PARAMETER_AVG = 100\n",
    "\n",
    "# When scipy.optimize minimization fails with these messages, we can\n",
    "# expect the result reached to still be pretty good\n",
    "OPTIMIZE_MAX_REACHED_MSG = ['Maximum number of iterations has been exceeded.',\n",
    "                            'Maximum number of function evaluations '\n",
    "                            'has been exceeded.']\n",
    "# Method parameter for scipy.optimize.minimize\n",
    "MINIMIZATION_METHOD = 'Nelder-Mead'\n",
    "\n",
    "# Bound on the number of MLE iterations\n",
    "MAX_ITER = 100\n",
    "# If no parameters has changed by more than DIFF in the last SMALL_DIFF_STREAK\n",
    "# iterations, then we terminate the optimization process\n",
    "DIFF = 0.001\n",
    "SMALL_DIFF_STREAK = 3"
   ]
  },
  {
   "cell_type": "code",
   "execution_count": 5,
   "metadata": {},
   "outputs": [],
   "source": [
    "def logistic(a):\n",
    "    return expit(a)"
   ]
  },
  {
   "cell_type": "code",
   "execution_count": 6,
   "metadata": {},
   "outputs": [],
   "source": [
    "def base_irt_model(beta, theta):\n",
    "    return expit(theta - beta)"
   ]
  },
  {
   "cell_type": "code",
   "execution_count": 7,
   "metadata": {},
   "outputs": [],
   "source": [
    "class StudentParametersDistribution(object):\n",
    "    \"\"\"\n",
    "    An object for generation and calculation of student parameters.\n",
    "    \"\"\"\n",
    "    def __init__(self, theta_scale=THETA_SCALE):\n",
    "        self.theta = norm(loc=0., scale=theta_scale)\n",
    "\n",
    "    # This part randomly produce some randome values base on the distribution defined above\n",
    "    # It creates randome values based on the number of students\n",
    "    def rvs(self, size=None):\n",
    "        return self.theta.rvs(size)\n",
    "\n",
    "    def logpdf(self, theta):\n",
    "        return self.theta.logpdf(theta)\n",
    "\n",
    "\n",
    "class QuestionParametersDistribution(object):\n",
    "    \"\"\"\n",
    "    An object for generation and calculation of question parameters.\n",
    "    \"\"\"\n",
    "    def __init__(self, beta_scale=BETA_SCALE):\n",
    "        self.beta = norm(loc=0., scale=beta_scale)\n",
    "\n",
    "    # This part randomly produce some randome values base on the distribution defined above\n",
    "    # It creates randome values based on the number of subquestions\n",
    "    def rvs(self, size=None):\n",
    "        return self.beta.rvs(size)\n",
    "\n",
    "    def logpdf(self, beta):\n",
    "        return self.beta.logpdf(beta)"
   ]
  },
  {
   "cell_type": "code",
   "execution_count": 20,
   "metadata": {},
   "outputs": [],
   "source": [
    "def initialize_random_values(students_count, questions_count,\n",
    "                             student_dist, question_dist):\n",
    "    # This is the part were we randomize the student ability and the item difficulty\n",
    "    # The way we do it is we sample values based on the distribution that it is defined on\n",
    "    # However if we sample only once there will be lots of variance\n",
    "    # Thus we repeat the same 'INITIAL_PARAMETER_AVG' times and average them\n",
    "    theta_values = (sum(student_dist.rvs(size=(INITIAL_PARAMETER_AVG, students_count)),axis=0) \n",
    "                        / INITIAL_PARAMETER_AVG)\n",
    "    beta_values = (sum(question_dist.rvs(size=(INITIAL_PARAMETER_AVG, questions_count)), axis=0) \n",
    "                        / INITIAL_PARAMETER_AVG)\n",
    "    return theta_values, beta_values\n",
    "\n",
    "def preprocess_scores(score_matrix):\n",
    "    scores = []\n",
    "    for i in range(len(score_matrix)):\n",
    "        question_score=[]\n",
    "        for j in range(len(score_matrix[i])):\n",
    "            if score_matrix[i][j] == -1:\n",
    "                question_score.append(0)\n",
    "            elif score_matrix[i][j] == 0:\n",
    "                question_score.append(-1)\n",
    "            else:\n",
    "                question_score.append(score_matrix[i][j])\n",
    "        scores.append(question_score)\n",
    "    return np.asarray(scores)\n",
    "\n",
    "def initialize_estimation(scores, student_dist, question_dist):\n",
    "    # Even though we usually input the table as scores per student,\n",
    "    # the analysis is easier for a table of scores per question:\n",
    "    scores = scores.T\n",
    "    questions_count, students_count = scores.shape\n",
    "    # Split each question into small sub-question.\n",
    "    \n",
    "    # Begin with small random values per parameter to break symmetry.\n",
    "    thetas, betas = initialize_random_values(students_count,\n",
    "                                             questions_count,\n",
    "                                             student_dist, question_dist)\n",
    "    # Modify the question array according to those new sub-questions.\n",
    "    scores = preprocess_scores(scores)\n",
    "    return scores, thetas, betas"
   ]
  },
  {
   "cell_type": "code",
   "execution_count": 21,
   "metadata": {},
   "outputs": [],
   "source": [
    "def parse_optimization_result(res):\n",
    "    \"\"\"\n",
    "    Modify the dictionary returned by scipy.optimize.minimize to get the\n",
    "    actual optimal value of `x` obtained by the minimization process.\n",
    "    \"\"\"\n",
    "    if not res['success'] and res['message'] not in OPTIMIZE_MAX_REACHED_MSG:\n",
    "        raise RuntimeError(\"Optimization failed:\\n\" + repr(res))\n",
    "    return res['x']\n",
    "\n",
    "\n",
    "def learn_beta(thetas, question_dist, corrects):\n",
    "    \"\"\"\n",
    "    Returns a function that can calculate the log-likelihood of question\n",
    "    parameters given thetas and answers of different students.\n",
    "\n",
    "    Returns an estimation function suitable for optimization.\n",
    "    \"\"\"\n",
    "    def f(arg):\n",
    "        b = arg\n",
    "        mult = question_dist.logpdf(b)\n",
    "        p = base_irt_model(b, thetas)\n",
    "        for i, correct in enumerate(corrects):\n",
    "            # correct answer is 1, incorrect by -1, no answer is 0\n",
    "            # multiply by a factor of 2 per student, to utilize log1p\n",
    "            mult += log1p((2 * p[i] - 1) * correct)\n",
    "        return -mult\n",
    "    return f\n",
    "\n",
    "def question_beta_given_theta(thetas, question_dist, scores, initial_beta):\n",
    "    \"\"\"\n",
    "    find the maximal-likelihood question parameters, given the ability\n",
    "    and answers of all students, for a single question\n",
    "    \"\"\"\n",
    "    to_minimize = learn_beta(thetas, question_dist, scores)\n",
    "    res = minimize(to_minimize, initial_beta, method=MINIMIZATION_METHOD)\n",
    "    return parse_optimization_result(res)\n",
    "\n",
    "\n",
    "def all_betas_given_theta(thetas, question_dist, scores, betas):\n",
    "    \"\"\"\n",
    "    find the maximal-likelihood question parameters, given the ability\n",
    "    and answers of all students, for all questions question\n",
    "    \"\"\"\n",
    "    return array([question_beta_given_theta(thetas, question_dist, scores[i], betas[i])\n",
    "                  for i in range(len(betas))])\n",
    "\n",
    "def learn_theta(betas, student_dist, corrects):\n",
    "    \"\"\"\n",
    "    Returns a function that can calculate the log-likelihood of student\n",
    "    parameters given question parameters and answers of different\n",
    "    students.\n",
    "\n",
    "    Returns an estimation function suitable for optimization.\n",
    "    \"\"\"\n",
    "    def f(theta):\n",
    "        theta = theta[0]\n",
    "        mult = student_dist.logpdf(theta)\n",
    "        b = betas\n",
    "        p = base_irt_model(b, theta)\n",
    "        for i, correct in enumerate(corrects):\n",
    "            mult += log1p((2 * p[i] - 1) * correct)\n",
    "        return -mult\n",
    "    return f\n",
    "\n",
    "def student_theta_given_beta(betas, student_dist, scores, inital_theta):\n",
    "    \"\"\"\n",
    "    find the maximal-likelihood ability parameter of a single student,\n",
    "    given his answers and the parameters of the questions\n",
    "    \"\"\"\n",
    "    to_minimize = learn_theta(betas, student_dist, scores)\n",
    "    res = minimize(to_minimize, [inital_theta], method=MINIMIZATION_METHOD)\n",
    "    return parse_optimization_result(res)\n",
    "\n",
    "\n",
    "def all_thetas_given_beta(betas, student_dist, scores, thetas):\n",
    "    \"\"\"\n",
    "    find the maximal-likelihood ability parameter of a all students,\n",
    "    given their answers and the parameters of the questions\n",
    "    \"\"\"\n",
    "    return array([student_theta_given_beta(betas, student_dist, scores[:, i], thetas[i])\n",
    "                  for i in range(len(thetas))])"
   ]
  },
  {
   "cell_type": "code",
   "execution_count": 22,
   "metadata": {},
   "outputs": [],
   "source": [
    "def estimate_thetas(scores, verbose=False):\n",
    "    \"\"\"\n",
    "    Estimates the student theta (ability) and question parameters.\n",
    "\n",
    "    Currently uses JMLE to simultaneously estimate the parameters for\n",
    "    students and for questions.\n",
    "\n",
    "    Parameters\n",
    "    ----------\n",
    "    scores : array_like\n",
    "        A 2-dimensional array of question scores, where each row\n",
    "        corresponds to a single student. Grades should be integers but\n",
    "        their scale can be arbitrary (supports partial credit, not only\n",
    "        0 and 1).\n",
    "\n",
    "    \"\"\"\n",
    "    # The student and item difficutly is constructed in the random manner as a Gaussian Distribution\n",
    "    student_dist = StudentParametersDistribution()\n",
    "    question_dist = QuestionParametersDistribution()\n",
    "    post_scores, thetas, betas = initialize_estimation(scores, student_dist, question_dist)\n",
    "    small_diffs_streak = 0\n",
    "    iter_count = 0\n",
    "    while iter_count < MAX_ITER and small_diffs_streak < SMALL_DIFF_STREAK:\n",
    "        old_betas, old_thetas = copy(betas), copy(thetas)\n",
    "        betas = all_betas_given_theta(thetas, question_dist, post_scores, betas)\n",
    "        thetas = all_thetas_given_beta(betas, student_dist, post_scores, thetas)\n",
    "        # How much have the parameters changed from last time?\n",
    "        diff = max([max(abs(old_betas - betas)), max(abs(old_thetas - thetas))])\n",
    "        if diff < DIFF:\n",
    "            small_diffs_streak += 1\n",
    "        else:\n",
    "            small_diffs_streak = 0\n",
    "        iter_count += 1\n",
    "        #if verbose:\n",
    "        #    print(diff)\n",
    "    return thetas, betas"
   ]
  },
  {
   "cell_type": "code",
   "execution_count": 23,
   "metadata": {},
   "outputs": [],
   "source": [
    "# Python program to get average of a list \n",
    "def Average(lst): \n",
    "    return sum(lst) / len(lst)"
   ]
  },
  {
   "cell_type": "code",
   "execution_count": 25,
   "metadata": {},
   "outputs": [
    {
     "name": "stdout",
     "output_type": "stream",
     "text": [
      "Starting the iteration\n",
      "Finished  0 th iteration of  0  percent missing data\n",
      "Finished  1 th iteration of  0  percent missing data\n",
      "Finished  2 th iteration of  0  percent missing data\n",
      "Finished  3 th iteration of  0  percent missing data\n",
      "Finished  4 th iteration of  0  percent missing data\n",
      "Finished  5 th iteration of  0  percent missing data\n",
      "Finished  6 th iteration of  0  percent missing data\n",
      "Finished  7 th iteration of  0  percent missing data\n",
      "Finished  8 th iteration of  0  percent missing data\n",
      "Finished  9 th iteration of  0  percent missing data\n",
      "Finished  0 th iteration of  10  percent missing data\n",
      "Finished  1 th iteration of  10  percent missing data\n",
      "Finished  2 th iteration of  10  percent missing data\n",
      "Finished  3 th iteration of  10  percent missing data\n",
      "Finished  4 th iteration of  10  percent missing data\n",
      "Finished  5 th iteration of  10  percent missing data\n",
      "Finished  6 th iteration of  10  percent missing data\n",
      "Finished  7 th iteration of  10  percent missing data\n",
      "Finished  8 th iteration of  10  percent missing data\n",
      "Finished  9 th iteration of  10  percent missing data\n",
      "Finished  0 th iteration of  20  percent missing data\n",
      "Finished  1 th iteration of  20  percent missing data\n",
      "Finished  2 th iteration of  20  percent missing data\n",
      "Finished  3 th iteration of  20  percent missing data\n",
      "Finished  4 th iteration of  20  percent missing data\n",
      "Finished  5 th iteration of  20  percent missing data\n",
      "Finished  6 th iteration of  20  percent missing data\n",
      "Finished  7 th iteration of  20  percent missing data\n",
      "Finished  8 th iteration of  20  percent missing data\n",
      "Finished  9 th iteration of  20  percent missing data\n",
      "Finished  0 th iteration of  30  percent missing data\n",
      "Finished  1 th iteration of  30  percent missing data\n",
      "Finished  2 th iteration of  30  percent missing data\n",
      "Finished  3 th iteration of  30  percent missing data\n",
      "Finished  4 th iteration of  30  percent missing data\n",
      "Finished  5 th iteration of  30  percent missing data\n",
      "Finished  6 th iteration of  30  percent missing data\n",
      "Finished  7 th iteration of  30  percent missing data\n",
      "Finished  8 th iteration of  30  percent missing data\n",
      "Finished  9 th iteration of  30  percent missing data\n",
      "Finished  0 th iteration of  40  percent missing data\n",
      "Finished  1 th iteration of  40  percent missing data\n",
      "Finished  2 th iteration of  40  percent missing data\n",
      "Finished  3 th iteration of  40  percent missing data\n",
      "Finished  4 th iteration of  40  percent missing data\n",
      "Finished  5 th iteration of  40  percent missing data\n",
      "Finished  6 th iteration of  40  percent missing data\n",
      "Finished  7 th iteration of  40  percent missing data\n",
      "Finished  8 th iteration of  40  percent missing data\n",
      "Finished  9 th iteration of  40  percent missing data\n",
      "Finished  0 th iteration of  50  percent missing data\n",
      "Finished  1 th iteration of  50  percent missing data\n",
      "Finished  2 th iteration of  50  percent missing data\n",
      "Finished  3 th iteration of  50  percent missing data\n",
      "Finished  4 th iteration of  50  percent missing data\n",
      "Finished  5 th iteration of  50  percent missing data\n",
      "Finished  6 th iteration of  50  percent missing data\n",
      "Finished  7 th iteration of  50  percent missing data\n",
      "Finished  8 th iteration of  50  percent missing data\n",
      "Finished  9 th iteration of  50  percent missing data\n",
      "Finished  0 th iteration of  60  percent missing data\n",
      "Finished  1 th iteration of  60  percent missing data\n",
      "Finished  2 th iteration of  60  percent missing data\n",
      "Finished  3 th iteration of  60  percent missing data\n",
      "Finished  4 th iteration of  60  percent missing data\n",
      "Finished  5 th iteration of  60  percent missing data\n",
      "Finished  6 th iteration of  60  percent missing data\n",
      "Finished  7 th iteration of  60  percent missing data\n",
      "Finished  8 th iteration of  60  percent missing data\n",
      "Finished  9 th iteration of  60  percent missing data\n",
      "Finished  0 th iteration of  70  percent missing data\n",
      "Finished  1 th iteration of  70  percent missing data\n",
      "Finished  2 th iteration of  70  percent missing data\n",
      "Finished  3 th iteration of  70  percent missing data\n",
      "Finished  4 th iteration of  70  percent missing data\n",
      "Finished  5 th iteration of  70  percent missing data\n",
      "Finished  6 th iteration of  70  percent missing data\n",
      "Finished  7 th iteration of  70  percent missing data\n",
      "Finished  8 th iteration of  70  percent missing data\n",
      "Finished  9 th iteration of  70  percent missing data\n",
      "Finished  0 th iteration of  80  percent missing data\n",
      "Finished  1 th iteration of  80  percent missing data\n",
      "Finished  2 th iteration of  80  percent missing data\n",
      "Finished  3 th iteration of  80  percent missing data\n",
      "Finished  4 th iteration of  80  percent missing data\n",
      "Finished  5 th iteration of  80  percent missing data\n",
      "Finished  6 th iteration of  80  percent missing data\n",
      "Finished  7 th iteration of  80  percent missing data\n",
      "Finished  8 th iteration of  80  percent missing data\n",
      "Finished  9 th iteration of  80  percent missing data\n",
      "Finished  0 th iteration of  90  percent missing data\n",
      "Finished  1 th iteration of  90  percent missing data\n",
      "Finished  2 th iteration of  90  percent missing data\n",
      "Finished  3 th iteration of  90  percent missing data\n",
      "Finished  4 th iteration of  90  percent missing data\n",
      "Finished  5 th iteration of  90  percent missing data\n",
      "Finished  6 th iteration of  90  percent missing data\n",
      "Finished  7 th iteration of  90  percent missing data\n",
      "Finished  8 th iteration of  90  percent missing data\n",
      "Finished  9 th iteration of  90  percent missing data\n"
     ]
    }
   ],
   "source": [
    "spearman_ability = []\n",
    "spearman_item = []\n",
    "pearson_ability = []\n",
    "pearson_item = []\n",
    "\n",
    "print(\"Starting the iteration\")\n",
    "for i in range(10):\n",
    "    spearman_ability_temp = []\n",
    "    spearman_item_temp = []\n",
    "    pearson_ability_temp = []\n",
    "    pearson_item_temp = []\n",
    "    for j in range(10):\n",
    "        n_s = 30 # number of students\n",
    "        n_i = 20 # number of items\n",
    "\n",
    "        # pick a random ability for each student from an N(0,1) distribution\n",
    "\n",
    "        abilities = np.random.randn(n_s,1)\n",
    "\n",
    "        # pick a random difficulty for each item from an N(0,1) distribution\n",
    "\n",
    "        difficulties = np.random.randn(1,n_i)\n",
    "\n",
    "        # the IRT model says that P(correct[s,i]) = logistic(ability[s] -difficulty[i])\n",
    "        prob_correct = logistic(abilities - difficulties) \n",
    "\n",
    "        # flip a coin to pick 'correct' or 'incorrect' for each student based on the\n",
    "        # probability of a correct response\n",
    "        \n",
    "        student_responses = np.random.binomial(1,prob_correct)\n",
    "        \n",
    "        for k in range(n_s):\n",
    "            for l in range(n_i):                  \n",
    "                value=np.random.binomial(1,(10-i) * 0.1)\n",
    "                if value == 0:\n",
    "                    student_responses[k][l] = -1\n",
    "        \n",
    "        # This is the part where the student ability and the item difficulty is being trained\n",
    "        # This estimation uses the four paremeter model\n",
    "        thetas, betas = estimate_thetas(student_responses)\n",
    "        correlation, p_value = spearmanr(abilities,thetas)\n",
    "        spearman_ability_temp.append(correlation)\n",
    "        correlation, p_value = spearmanr(difficulties.flatten(),betas)\n",
    "        spearman_item_temp.append(correlation)\n",
    "        \n",
    "        correlation, p_value = pearsonr(abilities.flatten(), thetas.flatten())\n",
    "        pearson_ability_temp.append(correlation)\n",
    "        correlation, p_value = pearsonr(difficulties.flatten(),betas.flatten().T)\n",
    "        pearson_item_temp.append(correlation)\n",
    "        print(\"Finished \",j,\"th iteration of \",i*10,\" percent missing data\")\n",
    "    spearman_ability.append(Average(spearman_ability_temp))\n",
    "    spearman_item.append(Average(spearman_item_temp))\n",
    "    pearson_ability.append(Average(pearson_ability_temp))\n",
    "    pearson_item.append(Average(pearson_item_temp))"
   ]
  },
  {
   "cell_type": "code",
   "execution_count": 26,
   "metadata": {},
   "outputs": [
    {
     "data": {
      "image/png": "[encoded data removed]",
      "text/plain": [
       "<Figure size 432x288 with 1 Axes>"
      ]
     },
     "metadata": {
      "needs_background": "light"
     },
     "output_type": "display_data"
    }
   ],
   "source": [
    "plt.title('The Ability plot(Spearman)')\n",
    "plt.xlabel('Percent of Missing Data')\n",
    "plt.ylabel('Spearman Rank Correlation')\n",
    "plt.plot([0,10,20,30,40,50,60,70,80,90],spearman_ability,'go')\n",
    "plt.savefig('Spearman Rank of Ability.png')"
   ]
  },
  {
   "cell_type": "code",
   "execution_count": 27,
   "metadata": {},
   "outputs": [
    {
     "data": {
      "image/png": "[encoded data removed]",
      "text/plain": [
       "<Figure size 432x288 with 1 Axes>"
      ]
     },
     "metadata": {
      "needs_background": "light"
     },
     "output_type": "display_data"
    }
   ],
   "source": [
    "plt.title('The Ability plot(Pearson)')\n",
    "plt.xlabel('Percent of Missing Data')\n",
    "plt.ylabel('Pearson Correlation')\n",
    "plt.plot([0,10,20,30,40,50,60,70,80,90],pearson_ability,'go')\n",
    "plt.savefig('Pearson Correlation of Ability.png')"
   ]
  },
  {
   "cell_type": "code",
   "execution_count": 28,
   "metadata": {},
   "outputs": [
    {
     "data": {
      "image/png": "[encoded data removed]",
      "text/plain": [
       "<Figure size 432x288 with 1 Axes>"
      ]
     },
     "metadata": {
      "needs_background": "light"
     },
     "output_type": "display_data"
    }
   ],
   "source": [
    "plt.title('The Item Difficulty plot(Spearman)')\n",
    "plt.xlabel('Percent of Missing Data')\n",
    "plt.ylabel('Spearman Rank Correlation')\n",
    "plt.plot([0,10,20,30,40,50,60,70,80,90],spearman_item,'ro')\n",
    "plt.savefig('Spearman Correlation of Item Difficulty.png')"
   ]
  },
  {
   "cell_type": "code",
   "execution_count": 29,
   "metadata": {},
   "outputs": [
    {
     "data": {
      "image/png": "[encoded data removed]",
      "text/plain": [
       "<Figure size 432x288 with 1 Axes>"
      ]
     },
     "metadata": {
      "needs_background": "light"
     },
     "output_type": "display_data"
    }
   ],
   "source": [
    "plt.title('The Item Difficulty plot(Pearson)')\n",
    "plt.xlabel('Percent of Missing Data')\n",
    "plt.ylabel('Pearson Correlation')\n",
    "plt.plot([0,10,20,30,40,50,60,70,80,90],pearson_item,'ro')\n",
    "plt.savefig('Pearson Correlation of Item Difficulty.png')"
   ]
  },
  {
   "cell_type": "code",
   "execution_count": null,
   "metadata": {},
   "outputs": [],
   "source": []
  }
 ],
 "metadata": {
  "kernelspec": {
   "display_name": "Python 3",
   "language": "python",
   "name": "python3"
  },
  "language_info": {
   "codemirror_mode": {
    "name": "ipython",
    "version": 3
   },
   "file_extension": ".py",
   "mimetype": "text/x-python",
   "name": "python",
   "nbconvert_exporter": "python",
   "pygments_lexer": "ipython3",
   "version": "3.7.6"
  }
 },
 "nbformat": 4,
 "nbformat_minor": 4
}
